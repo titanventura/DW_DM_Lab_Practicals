{
 "cells": [
  {
   "cell_type": "code",
   "execution_count": 2,
   "metadata": {},
   "outputs": [
    {
     "name": "stdout",
     "output_type": "stream",
     "text": [
      "                Product 1            Product 2         Product 3  \\\n",
      "0            citrus fruit  semi-finished bread         margarine   \n",
      "1          tropical fruit               yogurt            coffee   \n",
      "2              whole milk                  NaN               NaN   \n",
      "3               pip fruit               yogurt      cream cheese   \n",
      "4        other vegetables           whole milk    condensed milk   \n",
      "...                   ...                  ...               ...   \n",
      "9830              sausage              chicken              beef   \n",
      "9831    cooking chocolate                  NaN               NaN   \n",
      "9832              chicken         citrus fruit  other vegetables   \n",
      "9833  semi-finished bread        bottled water              soda   \n",
      "9834              chicken       tropical fruit  other vegetables   \n",
      "\n",
      "                     Product 4      Product 5       Product 6  \\\n",
      "0                  ready soups            NaN             NaN   \n",
      "1                          NaN            NaN             NaN   \n",
      "2                          NaN            NaN             NaN   \n",
      "3                 meat spreads            NaN             NaN   \n",
      "4     long life bakery product            NaN             NaN   \n",
      "...                        ...            ...             ...   \n",
      "9830            hamburger meat   citrus fruit          grapes   \n",
      "9831                       NaN            NaN             NaN   \n",
      "9832                    butter         yogurt  frozen dessert   \n",
      "9833              bottled beer            NaN             NaN   \n",
      "9834                   vinegar  shopping bags             NaN   \n",
      "\n",
      "            Product 7   Product 8 Product 9          Product 10  ...  \\\n",
      "0                 NaN         NaN       NaN                 NaN  ...   \n",
      "1                 NaN         NaN       NaN                 NaN  ...   \n",
      "2                 NaN         NaN       NaN                 NaN  ...   \n",
      "3                 NaN         NaN       NaN                 NaN  ...   \n",
      "4                 NaN         NaN       NaN                 NaN  ...   \n",
      "...               ...         ...       ...                 ...  ...   \n",
      "9830  root vegetables  whole milk    butter  whipped/sour cream  ...   \n",
      "9831              NaN         NaN       NaN                 NaN  ...   \n",
      "9832    domestic eggs  rolls/buns       rum     cling film/bags  ...   \n",
      "9833              NaN         NaN       NaN                 NaN  ...   \n",
      "9834              NaN         NaN       NaN                 NaN  ...   \n",
      "\n",
      "     Product 23 Product 24 Product 25 Product 26 Product 27 Product 28  \\\n",
      "0           NaN        NaN        NaN        NaN        NaN        NaN   \n",
      "1           NaN        NaN        NaN        NaN        NaN        NaN   \n",
      "2           NaN        NaN        NaN        NaN        NaN        NaN   \n",
      "3           NaN        NaN        NaN        NaN        NaN        NaN   \n",
      "4           NaN        NaN        NaN        NaN        NaN        NaN   \n",
      "...         ...        ...        ...        ...        ...        ...   \n",
      "9830        NaN        NaN        NaN        NaN        NaN        NaN   \n",
      "9831        NaN        NaN        NaN        NaN        NaN        NaN   \n",
      "9832        NaN        NaN        NaN        NaN        NaN        NaN   \n",
      "9833        NaN        NaN        NaN        NaN        NaN        NaN   \n",
      "9834        NaN        NaN        NaN        NaN        NaN        NaN   \n",
      "\n",
      "     Product 29 Product 30 Product 31 Product 32  \n",
      "0           NaN        NaN        NaN        NaN  \n",
      "1           NaN        NaN        NaN        NaN  \n",
      "2           NaN        NaN        NaN        NaN  \n",
      "3           NaN        NaN        NaN        NaN  \n",
      "4           NaN        NaN        NaN        NaN  \n",
      "...         ...        ...        ...        ...  \n",
      "9830        NaN        NaN        NaN        NaN  \n",
      "9831        NaN        NaN        NaN        NaN  \n",
      "9832        NaN        NaN        NaN        NaN  \n",
      "9833        NaN        NaN        NaN        NaN  \n",
      "9834        NaN        NaN        NaN        NaN  \n",
      "\n",
      "[9835 rows x 32 columns]\n"
     ]
    }
   ],
   "source": [
    "import pandas as pd\n",
    "\n",
    "df = pd.read_csv(\"Grocery Products Purchase.csv\")\n",
    "# len(df)\n",
    "print(df)"
   ]
  },
  {
   "cell_type": "code",
   "execution_count": 35,
   "metadata": {},
   "outputs": [
    {
     "name": "stdout",
     "output_type": "stream",
     "text": [
      "32\n"
     ]
    }
   ],
   "source": [
    "\n",
    "max_row = None\n",
    "max_val = 0\n",
    "\n",
    "for idx,row in df.iterrows():\n",
    "    cnt = 0\n",
    "    for a in row:\n",
    "        if pd.isnull(a):\n",
    "            break\n",
    "        cnt += 1\n",
    "        \n",
    "    if cnt > max_val:\n",
    "        max_val = cnt\n",
    "        max_row = row\n",
    "        \n",
    "# print(row)\n",
    "print(max_val)"
   ]
  },
  {
   "cell_type": "code",
   "execution_count": 4,
   "metadata": {},
   "outputs": [],
   "source": [
    "all_transactions = []\n",
    "\n",
    "for idx,row in df.iterrows():\n",
    "    transaction_items = []\n",
    "    \n",
    "    for i in row:\n",
    "        if pd.isnull(i):\n",
    "            break\n",
    "        else:\n",
    "            transaction_items.append(i)\n",
    "            \n",
    "    all_transactions.append(transaction_items)\n",
    "    "
   ]
  },
  {
   "cell_type": "code",
   "execution_count": 5,
   "metadata": {},
   "outputs": [],
   "source": [
    "from apyori import apriori"
   ]
  },
  {
   "cell_type": "code",
   "execution_count": 31,
   "metadata": {},
   "outputs": [],
   "source": [
    "def printRules(rules):\n",
    "    for rule in rules:\n",
    "        print(rule)"
   ]
  },
  {
   "cell_type": "markdown",
   "metadata": {},
   "source": [
    "# GIVEN CONDITIONS\n",
    "### min_support = 0.6 \n",
    "### confidence = 0.8\n",
    "### min_length = 2"
   ]
  },
  {
   "cell_type": "code",
   "execution_count": 32,
   "metadata": {},
   "outputs": [],
   "source": [
    "rules = apriori(all_transactions,min_support=0.6,min_confidence=0.8,min_length=2)\n",
    "printRules(rules) # NO RULES PRINTED"
   ]
  },
  {
   "cell_type": "markdown",
   "metadata": {},
   "source": [
    "# EXAMPLE RULE EXISTING CONDITION\n",
    "### min_support = 0.2\n",
    "### confidence = 0.2\n",
    "### min_length = 2"
   ]
  },
  {
   "cell_type": "code",
   "execution_count": 34,
   "metadata": {},
   "outputs": [
    {
     "name": "stdout",
     "output_type": "stream",
     "text": [
      "RelationRecord(items=frozenset({'whole milk'}), support=0.25551601423487547, ordered_statistics=[OrderedStatistic(items_base=frozenset(), items_add=frozenset({'whole milk'}), confidence=0.25551601423487547, lift=1.0)])\n"
     ]
    }
   ],
   "source": [
    "rules = apriori(all_transactions,min_support=0.2,min_confidence=0.2,min_length=2)\n",
    "printRules(rules)"
   ]
  }
 ],
 "metadata": {
  "kernelspec": {
   "display_name": "Python 3",
   "language": "python",
   "name": "python3"
  },
  "language_info": {
   "codemirror_mode": {
    "name": "ipython",
    "version": 3
   },
   "file_extension": ".py",
   "mimetype": "text/x-python",
   "name": "python",
   "nbconvert_exporter": "python",
   "pygments_lexer": "ipython3",
   "version": "3.8.5"
  }
 },
 "nbformat": 4,
 "nbformat_minor": 4
}
